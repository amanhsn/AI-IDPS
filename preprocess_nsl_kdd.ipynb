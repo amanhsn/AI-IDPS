{
  "cells": [
    {
      "cell_type": "markdown",
      "metadata": {},
      "source": [
        "# 🧪 NSL-KDD Preprocessing Notebook\n",
        "This notebook loads and preprocesses the NSL-KDD dataset for use in intrusion detection models."
      ]
    },
    {
      "cell_type": "code",
      "execution_count": 7,
      "metadata": {},
      "outputs": [],
      "source": [
        "# 📦 Imports\n",
        "import pandas as pd\n",
        "import numpy as np\n",
        "from sklearn.preprocessing import LabelEncoder, MinMaxScaler\n",
        "from sklearn.model_selection import train_test_split\n",
        "import os\n",
        "\n",
        "# Set paths\n",
        "DATA_DIR = 'data/raw/'\n",
        "PROCESSED_DIR = 'data/processed/'\n",
        "os.makedirs(PROCESSED_DIR, exist_ok=True)"
      ]
    },
    {
      "cell_type": "code",
      "execution_count": 8,
      "metadata": {},
      "outputs": [
        {
          "name": "stdout",
          "output_type": "stream",
          "text": [
            "Train shape: (125973, 43), Test shape: (22544, 43)\n"
          ]
        }
      ],
      "source": [
        "# 📂 Load NSL-KDD Data\n",
        "column_names = [\n",
        "    'duration','protocol_type','service','flag','src_bytes','dst_bytes','land','wrong_fragment','urgent',\n",
        "    'hot','num_failed_logins','logged_in','num_compromised','root_shell','su_attempted','num_root',\n",
        "    'num_file_creations','num_shells','num_access_files','num_outbound_cmds','is_host_login',\n",
        "    'is_guest_login','count','srv_count','serror_rate','srv_serror_rate','rerror_rate','srv_rerror_rate',\n",
        "    'same_srv_rate','diff_srv_rate','srv_diff_host_rate','dst_host_count','dst_host_srv_count',\n",
        "    'dst_host_same_srv_rate','dst_host_diff_srv_rate','dst_host_same_src_port_rate',\n",
        "    'dst_host_srv_diff_host_rate','dst_host_serror_rate','dst_host_srv_serror_rate',\n",
        "    'dst_host_rerror_rate','dst_host_srv_rerror_rate','label','difficulty'\n",
        "]\n",
        "\n",
        "# Load files\n",
        "train_df = pd.read_csv(os.path.join(DATA_DIR, 'KDDTrain+.txt'), names=column_names)\n",
        "test_df = pd.read_csv(os.path.join(DATA_DIR, 'KDDTest+.txt'), names=column_names)\n",
        "\n",
        "print(f\"Train shape: {train_df.shape}, Test shape: {test_df.shape}\")"
      ]
    },
    {
      "cell_type": "code",
      "execution_count": 9,
      "metadata": {},
      "outputs": [],
      "source": [
        "# 🧹 Preprocessing\n",
        "# Drop the 'difficulty' column\n",
        "train_df.drop('difficulty', axis=1, inplace=True)\n",
        "test_df.drop('difficulty', axis=1, inplace=True)\n",
        "\n",
        "# Binary label encoding\n",
        "def label_encoder(label):\n",
        "    return 0 if label == 'normal' else 1\n",
        "\n",
        "train_df['label'] = train_df['label'].apply(label_encoder)\n",
        "test_df['label'] = test_df['label'].apply(label_encoder)"
      ]
    },
    {
      "cell_type": "code",
      "execution_count": 10,
      "metadata": {},
      "outputs": [],
      "source": [
        "# Encode categorical columns\n",
        "categorical_cols = ['protocol_type', 'service', 'flag']\n",
        "encoder = LabelEncoder()\n",
        "\n",
        "for col in categorical_cols:\n",
        "    train_df[col] = encoder.fit_transform(train_df[col])\n",
        "    test_df[col] = encoder.transform(test_df[col])"
      ]
    },
    {
      "cell_type": "code",
      "execution_count": 11,
      "metadata": {},
      "outputs": [],
      "source": [
        "# Normalize numerical columns\n",
        "scaler = MinMaxScaler()\n",
        "\n",
        "X_train = train_df.drop('label', axis=1)\n",
        "y_train = train_df['label']\n",
        "X_test = test_df.drop('label', axis=1)\n",
        "y_test = test_df['label']\n",
        "\n",
        "X_train_scaled = scaler.fit_transform(X_train)\n",
        "X_test_scaled = scaler.transform(X_test)"
      ]
    },
    {
      "cell_type": "code",
      "execution_count": 12,
      "metadata": {},
      "outputs": [
        {
          "name": "stdout",
          "output_type": "stream",
          "text": [
            "✅ Preprocessing complete and saved to /data/processed/\n"
          ]
        }
      ],
      "source": [
        "# Save processed data\n",
        "np.save(os.path.join(PROCESSED_DIR, 'X_train.npy'), X_train_scaled)\n",
        "np.save(os.path.join(PROCESSED_DIR, 'y_train.npy'), y_train)\n",
        "np.save(os.path.join(PROCESSED_DIR, 'X_test.npy'), X_test_scaled)\n",
        "np.save(os.path.join(PROCESSED_DIR, 'y_test.npy'), y_test)\n",
        "\n",
        "print(\"✅ Preprocessing complete and saved to /data/processed/\")"
      ]
    }
  ],
  "metadata": {
    "kernelspec": {
      "display_name": "Python 3",
      "language": "python",
      "name": "python3"
    },
    "language_info": {
      "codemirror_mode": {
        "name": "ipython",
        "version": 3
      },
      "file_extension": ".py",
      "mimetype": "text/x-python",
      "name": "python",
      "nbconvert_exporter": "python",
      "pygments_lexer": "ipython3",
      "version": "3.10.6"
    }
  },
  "nbformat": 4,
  "nbformat_minor": 2
}
